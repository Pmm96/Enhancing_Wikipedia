{
 "cells": [
  {
   "cell_type": "code",
   "execution_count": 3,
   "metadata": {},
   "outputs": [],
   "source": [
    "import pandas as pd\n",
    "# import transformers\n",
    "import re\n",
    "import os, os.path\n",
    "import fnmatchs\n",
    "import json\n",
    "import collections\n",
    "import glob\n",
    "\n",
    "import matplotlib.pyplot as plt\n",
    "import numpy as np\n",
    "\n",
    "# import modules for web scrapping\n",
    "import requests\n",
    "from bs4 import BeautifulSoup\n",
    "\n",
    "\n",
    "import pandas as pd"
   ]
  },
  {
   "cell_type": "code",
   "execution_count": 4,
   "metadata": {},
   "outputs": [],
   "source": [
    "path='./medium_articles.csv'\n",
    "df_medium=pd.read_csv(path)\n",
    "\n",
    "def get_average_number_of_words(df):\n",
    "  total_words=0;\n",
    "  total_text=0;\n",
    "  for text in df['text']:\n",
    "    total_words+=len(list(text.split(\" \")))\n",
    "    total_text+=1\n",
    "\n",
    "  return total_words/total_text  "
   ]
  },
  {
   "cell_type": "code",
   "execution_count": 5,
   "metadata": {},
   "outputs": [],
   "source": [
    "df_medium= df_medium[df_medium['text'].str.len() <= 500]\n",
    "df_medium=df_medium[0:1500]"
   ]
  },
  {
   "cell_type": "code",
   "execution_count": 6,
   "metadata": {},
   "outputs": [],
   "source": [
    "persons = [\"Mahatma_Gandhi\",\"Nelson_Mandela\",\"Abraham_Lincoln\",\"Vladimir_Lenin\",\"Jawaharlal_Nehru\", \"Nikola_Tesla\",\"Albert_Einstein\",\\\n",
    "          \"Marie_Curie\",\"Stephen_Hawking\",\"Elon_Musk\",\"Warren_Buffett\",\"Jack_Ma\",\"Oprah_Winfrey\",\"Sachin_Tendulkar\",\\\n",
    "          \"Lionel_Messi\",\"Milkha_Singh\"]\n",
    "\n",
    "df =  pd.DataFrame(columns = ['title', 'text'])\n",
    "\n",
    "def FetchParagraphBetweenIds(id1,id2):\n",
    "    hElem = soup.find(\"span\", {'id': id1})\n",
    "    endElem = soup.find('span', {'id': id2})\n",
    "    cntns = list(soup.find_all())\n",
    "\n",
    "    my_lst = []\n",
    "    inBetween = False\n",
    "    for tag in cntns:\n",
    "        if tag == hElem:\n",
    "            inBetween = True\n",
    "        if inBetween == True and tag.name == 'p':\n",
    "            my_lst.append(tag.get_text())\n",
    "        if tag == endElem:\n",
    "            inBetween = False\n",
    "            break\n",
    "    return \"\".join(my_lst)\n",
    "\n",
    "for p in persons:\n",
    "    url = f'https://en.wikipedia.org/wiki/{p}'\n",
    "    headers = {'User-Agent': 'Mozilla/5.0 (Macintosh; Intel Mac OS X 10_11_5) AppleWebKit/537.36 (KHTML, like Gecko) Chrome/50.0.2661.102 Safari/537.36'}\n",
    "    response = requests.get(url, headers=headers)\n",
    "    #print(response.status_code)\n",
    "    soup = BeautifulSoup(response.content, 'html.parser')\n",
    "\n",
    "    desired_ids = []\n",
    "    for link in soup.find_all('span', attrs={'class':'mw-headline'}):\n",
    "        if link.get('id') is not None:\n",
    "            desired_ids.append(link.get('id'))\n",
    "\n",
    "    id_to_paragraph = {}\n",
    "    for i in range(len(desired_ids)-1):\n",
    "        id_to_paragraph[desired_ids[i]] = FetchParagraphBetweenIds(desired_ids[i],desired_ids[i+1])\n",
    "    id_to_paragraph_main = {}\n",
    "    for k,v in id_to_paragraph.items():\n",
    "        if len(v)>0:\n",
    "            id_to_paragraph_main[k] = v\n",
    "    df_new_row = pd.DataFrame(list(id_to_paragraph_main.items()), columns = ['title', 'text'])\n",
    "    df = pd.concat([df, df_new_row])\n",
    "\n",
    "df.reset_index(inplace=True)\n",
    "df = df.dropna()\n",
    "df['text'] = df['text'].astype('string')\n",
    "df['title'] = df['title'].astype('string')\n"
   ]
  },
  {
   "cell_type": "code",
   "execution_count": 7,
   "metadata": {},
   "outputs": [],
   "source": [
    "df=df[['text','title']]"
   ]
  },
  {
   "cell_type": "code",
   "execution_count": 18,
   "metadata": {},
   "outputs": [
    {
     "name": "stdout",
     "output_type": "stream",
     "text": [
      "The Shape of the WikiData data is -- (485, 2)\n"
     ]
    }
   ],
   "source": [
    "print(f\"The Shape of the WikiData data is -- {df.shape}\")"
   ]
  },
  {
   "cell_type": "code",
   "execution_count": 9,
   "metadata": {},
   "outputs": [],
   "source": [
    "df_medium=df_medium[['text','title']]"
   ]
  },
  {
   "cell_type": "code",
   "execution_count": 13,
   "metadata": {},
   "outputs": [],
   "source": [
    "frame=[df_medium,df]\n",
    "combined_df=pd.concat(frame)"
   ]
  },
  {
   "cell_type": "code",
   "execution_count": 17,
   "metadata": {},
   "outputs": [
    {
     "name": "stdout",
     "output_type": "stream",
     "text": [
      "The Shape of the Combined data is -- (1985, 2)\n"
     ]
    }
   ],
   "source": [
    "print(f\"The Shape of the Combined data is -- {combined_df.shape}\")"
   ]
  },
  {
   "cell_type": "code",
   "execution_count": 16,
   "metadata": {},
   "outputs": [],
   "source": [
    "df.to_csv('./medium_and_wikidata.csv',index=False)"
   ]
  }
 ],
 "metadata": {
  "kernelspec": {
   "display_name": "myenv",
   "language": "python",
   "name": "python3"
  },
  "language_info": {
   "codemirror_mode": {
    "name": "ipython",
    "version": 3
   },
   "file_extension": ".py",
   "mimetype": "text/x-python",
   "name": "python",
   "nbconvert_exporter": "python",
   "pygments_lexer": "ipython3",
   "version": "3.8.17"
  },
  "orig_nbformat": 4
 },
 "nbformat": 4,
 "nbformat_minor": 2
}
